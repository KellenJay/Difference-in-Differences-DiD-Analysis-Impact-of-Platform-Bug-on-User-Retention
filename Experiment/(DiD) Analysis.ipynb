{
 "cells": [
  {
   "cell_type": "markdown",
   "id": "0afda7fb-51aa-417d-9bec-1271774d6f8c",
   "metadata": {},
   "source": [
    "# Difference-in-Differences (DiD) Analysis: Impact of Platform Bug on User Retention\n",
    "(Designed to uncover whether a platform bug led to a meaningful decline in user retention and engagement.)\n",
    "\n",
    "### 1. Experiment Goal\n",
    "**Overview:** Investigate **post-crash user retention trends** to assess the impact on **onboarding and long-term engagement**, and guide recovery strategies.\n",
    "\n",
    "\n",
    "**Context:** In early April 2020, a suspected platform bug caused lessons to be completed in **less than 5 seconds**; raising concerns about data integrity and user experience. \n",
    "\n",
    "- March: 746 new data-analyst users\n",
    "- April: 345 new users\n",
    "- May: Just 6 new users\n",
    "\n",
    "Also observed: a drop in average time between lessons; initially counterintuitive, but likely driven by lower user activity rather than increased engagement.\n",
    "\n",
    "**Hypothesis:** We hypothesize that this bug disrupted learning behavior, leading to lower user retention and **fewer active learning days** per week. "
   ]
  },
  {
   "cell_type": "markdown",
   "id": "1150dd48-b8f2-4e0c-a3a9-227dba622b0b",
   "metadata": {},
   "source": [
    "### 2. Map the User Journey & Behavior Funnel\n",
    "\n",
    "Affected cohort may have experienced: Buggy lesson completions → Confusion or dissatisfaction → Lower likelihood of returning\n",
    "\n",
    "Funnel: First Lesson → Time to Next Lesson → Lesson 2 Completion → Ongoing Engagement → Course Completion"
   ]
  },
  {
   "cell_type": "markdown",
   "id": "d60816bf-410b-4ddb-b55b-898e05335a46",
   "metadata": {},
   "source": [
    "### 3. Define Metrics\n",
    "\n",
    "**Primary Metric:** Average Weekly Active Learning Days per User (The average number of unique days a student engages with the learning platform in a week)\n",
    "\n",
    "**Secondary Metrics:** \n",
    "- Number of New Users per Cohort Month (Cohort-based onboarding rate)\n",
    "\n",
    "- Average Time Between First and Second Lessons (Engagement Proxy)\n",
    "\n",
    "- Total Active Users in Weeks 2–4 (Long-term engagement check)\n",
    "\n",
    "**Guardrail Metrics:**\n",
    "\n",
    "- Abnormally Fast Lesson Completions (< 30 seconds)\n",
    "\n",
    "- Support Ticket Volume and Flagged Submissions"
   ]
  },
  {
   "cell_type": "markdown",
   "id": "928510db-a64d-447e-9b8b-90ec5e4eb45d",
   "metadata": {},
   "source": [
    "### Methodology: Difference-in-Differences (DiD)\n",
    "\n",
    "**Why DiD?**  \n",
    "Since we didn’t randomly assign the bug, we use DiD to compare **pre/post changes** between affected (treatment) and unaffected (control) groups.\n",
    "\n",
    "**Setup:**\n",
    "- **Treatment Group**: Users who started in **April 2020** (exposed to bug)\n",
    "- **Control Group**: Users who started in **March 2020** (clean experience)\n",
    "\n",
    "**Time Periods**\n",
    "- **Pre-period**: March 2020\n",
    "- **Post-period**: April–May 2020\n",
    "  \n",
    "- **Metric**: Weekly active learning days per user\n",
    "\n",
    "**Assumptions:** \n",
    "- Parallel engagement trends existed pre-bug across both cohorts\n",
    "- No other major product or marketing changes impacted only April users"
   ]
  },
  {
   "cell_type": "markdown",
   "id": "e217130c-ba78-458e-b7d4-71ae80cf0b8c",
   "metadata": {},
   "source": [
    "**1. Import Libraries**"
   ]
  },
  {
   "cell_type": "code",
   "execution_count": 4,
   "id": "2f646ca7-5bf4-4942-99dd-091e487af72a",
   "metadata": {},
   "outputs": [],
   "source": [
    "import pandas as pd\n",
    "import numpy as np\n",
    "import statsmodels.formula.api as smf\n",
    "import matplotlib.pyplot as plt\n",
    "\n",
    "lessons = pd.read_csv(r\"C:\\Users\\Ellen\\Desktop\\TripleTen Task\\lesson_index_test.csv\")\n",
    "completions = pd.read_csv(r\"C:\\Users\\Ellen\\Desktop\\TripleTen Task\\finished_lesson_test.csv\")\n",
    "\n",
    "# Merge Datasets\n",
    "df = completions.merge(lessons, on='lesson_id', how='left')"
   ]
  },
  {
   "cell_type": "code",
   "execution_count": 6,
   "id": "27d588ff-cb12-459d-8cec-76ac8ceb08cb",
   "metadata": {},
   "outputs": [],
   "source": [
    "# Convert timestamps & extract time periods\n",
    "df['date_created'] = pd.to_datetime(df['date_created'])\n",
    "df['month'] = df['date_created'].dt.to_period('M')\n",
    "df['week'] = df['date_created'].dt.to_period('W')"
   ]
  },
  {
   "cell_type": "markdown",
   "id": "2bd11094-b359-4b2f-9b29-e51ad0862a42",
   "metadata": {},
   "source": [
    "**2. Define Treatment vs Control Groups**"
   ]
  },
  {
   "cell_type": "code",
   "execution_count": 9,
   "id": "5ce3e8f5-1149-40f8-9d49-375b6152ba6f",
   "metadata": {},
   "outputs": [],
   "source": [
    "# Treatment = users who started in April 2020 (bug period)\n",
    "# Control = users who started in March 2020 (pre-bug)\n",
    "df = df[df['profession_name'] == 'data-analyst']\n",
    "\n",
    "# Get first lesson per user to define cohort\n",
    "first_lesson = df.groupby('user_id')['date_created'].min().reset_index()\n",
    "first_lesson['cohort_month'] = first_lesson['date_created'].dt.to_period('M')\n",
    "\n",
    "# Merge cohort info back\n",
    "df = df.merge(first_lesson[['user_id', 'cohort_month']], on='user_id', how='left')"
   ]
  },
  {
   "cell_type": "code",
   "execution_count": 11,
   "id": "18158d0c-1ccf-4974-aaba-2f54ea37390f",
   "metadata": {},
   "outputs": [],
   "source": [
    "# Filter cohorts of interest: March and April 2020\n",
    "df = df[df['cohort_month'].isin([pd.Period('2020-03'), pd.Period('2020-04')])]\n",
    "df['treatment_group'] = df['cohort_month'] == pd.Period('2020-04')"
   ]
  },
  {
   "cell_type": "code",
   "execution_count": 13,
   "id": "3c9b8b0e-945b-4313-8700-801b0d72bb35",
   "metadata": {},
   "outputs": [],
   "source": [
    "# Weekly Active Learning Days per Student\n",
    "weekly = df.groupby(['user_id', 'treatment_group', 'week']) \\\n",
    "           .agg(active_days=('date_created', lambda x: x.dt.date.nunique())) \\\n",
    "           .reset_index()\n",
    "\n",
    "# Define Pre and Post Periods\n",
    "weekly['week_start'] = weekly['week'].dt.start_time\n",
    "weekly['post'] = weekly['week_start'] >= pd.to_datetime('2020-04-01')"
   ]
  },
  {
   "cell_type": "code",
   "execution_count": 15,
   "id": "a6fbb924-3a5f-435c-8318-0748005c0a99",
   "metadata": {},
   "outputs": [],
   "source": [
    "# Create DiD Interaction Term\n",
    "weekly['interaction'] = weekly['post'] & weekly['treatment_group']"
   ]
  },
  {
   "cell_type": "markdown",
   "id": "125fd120-dd73-40f2-b70c-a16576a1c925",
   "metadata": {},
   "source": [
    "**3. Run Difference-in-Differences Regression**"
   ]
  },
  {
   "cell_type": "code",
   "execution_count": 19,
   "id": "84f46dc4-084d-4cc4-bb43-0398e3f3fc61",
   "metadata": {},
   "outputs": [
    {
     "name": "stdout",
     "output_type": "stream",
     "text": [
      "                            OLS Regression Results                            \n",
      "==============================================================================\n",
      "Dep. Variable:            active_days   R-squared:                       0.337\n",
      "Model:                            OLS   Adj. R-squared:                  0.336\n",
      "Method:                 Least Squares   F-statistic:                     842.3\n",
      "Date:                Tue, 09 Sep 2025   Prob (F-statistic):               0.00\n",
      "Time:                        21:46:42   Log-Likelihood:                -5884.8\n",
      "No. Observations:                4980   AIC:                         1.178e+04\n",
      "Df Residuals:                    4976   BIC:                         1.180e+04\n",
      "Df Model:                           3                                         \n",
      "Covariance Type:            nonrobust                                         \n",
      "===========================================================================================\n",
      "                              coef    std err          t      P>|t|      [0.025      0.975]\n",
      "-------------------------------------------------------------------------------------------\n",
      "Intercept                   1.3252      0.021     62.610      0.000       1.284       1.367\n",
      "treatment_group[T.True]     2.4530      0.054     45.782      0.000       2.348       2.558\n",
      "post[T.True]                0.0229      0.026      0.875      0.382      -0.028       0.074\n",
      "interaction[T.True]        -1.8391      0.063    -29.133      0.000      -1.963      -1.715\n",
      "==============================================================================\n",
      "Omnibus:                      499.769   Durbin-Watson:                   1.346\n",
      "Prob(Omnibus):                  0.000   Jarque-Bera (JB):             1160.156\n",
      "Skew:                           0.606   Prob(JB):                    1.19e-252\n",
      "Kurtosis:                       5.030   Cond. No.                         9.15\n",
      "==============================================================================\n",
      "\n",
      "Notes:\n",
      "[1] Standard Errors assume that the covariance matrix of the errors is correctly specified.\n",
      "       group period  active_days\n",
      "0    Control    Pre     1.325180\n",
      "1    Control   Post     1.348075\n",
      "2  Treatment    Pre     3.778210\n",
      "3  Treatment   Post     1.961972\n"
     ]
    }
   ],
   "source": [
    "model = smf.ols('active_days ~ treatment_group + post + interaction', data=weekly).fit()\n",
    "print(model.summary())\n",
    "\n",
    "summary_table = weekly.groupby(['treatment_group', 'post'])['active_days'].mean().reset_index()\n",
    "summary_table['group'] = summary_table['treatment_group'].map({True: 'Treatment', False: 'Control'})\n",
    "summary_table['period'] = summary_table['post'].map({True: 'Post', False: 'Pre'})\n",
    "summary_table = summary_table[['group', 'period', 'active_days']]\n",
    "print(summary_table)"
   ]
  },
  {
   "cell_type": "code",
   "execution_count": 21,
   "id": "1ce4bb96-bd63-4d48-9a40-0ca18284719e",
   "metadata": {},
   "outputs": [
    {
     "data": {
      "image/png": "[encoded data removed]",
      "text/plain": [
       "<Figure size 1000x500 with 1 Axes>"
      ]
     },
     "metadata": {},
     "output_type": "display_data"
    }
   ],
   "source": [
    "# Plot Engagement Trends\n",
    "pivot_table = weekly.groupby(['week_start', 'treatment_group'])['active_days'].mean().unstack()\n",
    "pivot_table.columns = ['Control', 'Treatment']\n",
    "pivot_table.plot(figsize=(10, 5), marker='o')\n",
    "plt.title(\"Weekly Active Days Per Student: Treatment vs Control\")\n",
    "plt.xlabel(\"Week\")\n",
    "plt.ylabel(\"Avg Active Days\")\n",
    "plt.grid(True)\n",
    "plt.tight_layout()\n",
    "plt.show()"
   ]
  },
  {
   "cell_type": "markdown",
   "id": "1c1f1783-3bb5-41c8-9ff4-8363a23c385b",
   "metadata": {},
   "source": [
    "**Regression Results**\n",
    "\n",
    "\n",
    "| Coefficient              | Estimate | P-Value | Interpretation |\n",
    "|--------------------------|----------|---------|----------------|\n",
    "| `treatment_group`        | +2.45    | 0.000   | April users were more active **before** the bug |\n",
    "| `post`                   | +0.02    | 0.38    | Overall change in control group after April |\n",
    "| `interaction (DiD term)` | **-1.84**| 0.000   | **Significant drop** in engagement due to bug |\n",
    "\n",
    "**DiD Estimate**:  \n",
    "> April users experienced **1.84 fewer active learning days/week**, compared to March users, after the suspected bug."
   ]
  },
  {
   "cell_type": "markdown",
   "id": "a2384250-1e61-42e6-a71b-e18a85df8674",
   "metadata": {},
   "source": [
    "### 4. Discuss Trade-offs\n",
    "\n",
    "**Pros**\n",
    "\n",
    "- Real-world behavior: No artificial testing setup — reflects natural user experience.\n",
    "- Causal insight without randomization: DiD helps isolate the effect of the bug.\n",
    "- Post-crash strategy: Informs recovery plans and feature quality checks.\n",
    "\n",
    "**Risks**\n",
    "\n",
    "- Assumes similar pre-bug trends across groups — if violated, bias can occur.\n",
    "- External factors (e.g. seasonality) may confound results.\n",
    "- Measurement noise: Bugs or tracking gaps could skew behavior signals.\n",
    "\n",
    "**Mitigation**\n",
    "\n",
    "- Use guardrail metrics like flagged completions and support tickets.\n",
    "- Cross-validate with multiple metrics for consistency.\n",
    "- Segment analysis by cohort or track to localize or generalize findings."
   ]
  },
  {
   "cell_type": "markdown",
   "id": "c26cd4f3-3c08-404b-9fe5-7bf8234b6d8e",
   "metadata": {},
   "source": [
    "### Conclusion\n",
    "\n",
    "- March (control) users had **stable engagement** across weeks.\n",
    "- April (treatment) users had a **sharp drop** after week 1 — right after the suspected bug.\n",
    "- This supports a **causal interpretation**: the crash **negatively impacted onboarding and retention**.\n",
    "  \n",
    "This validates our hypothesis and highlights the **business risk of platform instability.**\n",
    "\n",
    "### Recommendations\n",
    "\n",
    "- Audit April bug logs and address any lingering technical issues.\n",
    "- Launch re-engagement campaigns for April users affected by the crash.\n",
    "- Strengthen post-release regression tests to catch similar anomalies early."
   ]
  }
 ],
 "metadata": {
  "kernelspec": {
   "display_name": "Python [conda env:base] *",
   "language": "python",
   "name": "conda-base-py"
  },
  "language_info": {
   "codemirror_mode": {
    "name": "ipython",
    "version": 3
   },
   "file_extension": ".py",
   "mimetype": "text/x-python",
   "name": "python",
   "nbconvert_exporter": "python",
   "pygments_lexer": "ipython3",
   "version": "3.12.3"
  }
 },
 "nbformat": 4,
 "nbformat_minor": 5
}
